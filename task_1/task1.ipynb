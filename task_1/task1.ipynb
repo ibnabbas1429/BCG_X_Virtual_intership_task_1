{
 "cells": [
  {
   "cell_type": "markdown",
   "metadata": {},
   "source": [
    "# importing library"
   ]
  },
  {
   "cell_type": "code",
   "execution_count": 2,
   "metadata": {},
   "outputs": [],
   "source": [
    "import pandas as pd"
   ]
  },
  {
   "cell_type": "markdown",
   "metadata": {
    "vscode": {
     "languageId": "plaintext"
    }
   },
   "source": [
    "# Load your data"
   ]
  },
  {
   "cell_type": "code",
   "execution_count": 8,
   "metadata": {},
   "outputs": [],
   "source": [
    "path = \"data.csv\"\n",
    "df = pd.read_csv(\"data.csv\")\n"
   ]
  },
  {
   "cell_type": "code",
   "execution_count": 9,
   "metadata": {},
   "outputs": [
    {
     "data": {
      "text/html": [
       "<div>\n",
       "<style scoped>\n",
       "    .dataframe tbody tr th:only-of-type {\n",
       "        vertical-align: middle;\n",
       "    }\n",
       "\n",
       "    .dataframe tbody tr th {\n",
       "        vertical-align: top;\n",
       "    }\n",
       "\n",
       "    .dataframe thead th {\n",
       "        text-align: right;\n",
       "    }\n",
       "</style>\n",
       "<table border=\"1\" class=\"dataframe\">\n",
       "  <thead>\n",
       "    <tr style=\"text-align: right;\">\n",
       "      <th></th>\n",
       "      <th>Company</th>\n",
       "      <th>Fiscal Year</th>\n",
       "      <th>Total Revenue</th>\n",
       "      <th>Net Income</th>\n",
       "      <th>Total Assets</th>\n",
       "      <th>Total Liabilities</th>\n",
       "      <th>Cash Flow from Operating Activities</th>\n",
       "    </tr>\n",
       "  </thead>\n",
       "  <tbody>\n",
       "    <tr>\n",
       "      <th>0</th>\n",
       "      <td>Microsoft</td>\n",
       "      <td>2024</td>\n",
       "      <td>236000</td>\n",
       "      <td>73900</td>\n",
       "      <td>411981</td>\n",
       "      <td>198147</td>\n",
       "      <td>88900</td>\n",
       "    </tr>\n",
       "    <tr>\n",
       "      <th>1</th>\n",
       "      <td>Microsoft</td>\n",
       "      <td>2023</td>\n",
       "      <td>211915</td>\n",
       "      <td>72136</td>\n",
       "      <td>411981</td>\n",
       "      <td>198147</td>\n",
       "      <td>87076</td>\n",
       "    </tr>\n",
       "    <tr>\n",
       "      <th>2</th>\n",
       "      <td>Microsoft</td>\n",
       "      <td>2022</td>\n",
       "      <td>198270</td>\n",
       "      <td>61271</td>\n",
       "      <td>364840</td>\n",
       "      <td>186670</td>\n",
       "      <td>79668</td>\n",
       "    </tr>\n",
       "    <tr>\n",
       "      <th>3</th>\n",
       "      <td>Tesla</td>\n",
       "      <td>2023</td>\n",
       "      <td>96774</td>\n",
       "      <td>12586</td>\n",
       "      <td>82833</td>\n",
       "      <td>41661</td>\n",
       "      <td>13410</td>\n",
       "    </tr>\n",
       "    <tr>\n",
       "      <th>4</th>\n",
       "      <td>Tesla</td>\n",
       "      <td>2022</td>\n",
       "      <td>81462</td>\n",
       "      <td>12564</td>\n",
       "      <td>82551</td>\n",
       "      <td>40317</td>\n",
       "      <td>11457</td>\n",
       "    </tr>\n",
       "  </tbody>\n",
       "</table>\n",
       "</div>"
      ],
      "text/plain": [
       "     Company  Fiscal Year  Total Revenue  Net Income  Total Assets  \\\n",
       "0  Microsoft         2024         236000       73900        411981   \n",
       "1  Microsoft         2023         211915       72136        411981   \n",
       "2  Microsoft         2022         198270       61271        364840   \n",
       "3      Tesla         2023          96774       12586         82833   \n",
       "4      Tesla         2022          81462       12564         82551   \n",
       "\n",
       "   Total Liabilities  Cash Flow from Operating Activities  \n",
       "0             198147                                88900  \n",
       "1             198147                                87076  \n",
       "2             186670                                79668  \n",
       "3              41661                                13410  \n",
       "4              40317                                11457  "
      ]
     },
     "execution_count": 9,
     "metadata": {},
     "output_type": "execute_result"
    }
   ],
   "source": [
    "df.head()"
   ]
  },
  {
   "cell_type": "markdown",
   "metadata": {},
   "source": [
    "## calculate year-over-year changes for each financial metric."
   ]
  },
  {
   "cell_type": "code",
   "execution_count": 13,
   "metadata": {},
   "outputs": [],
   "source": [
    "df[\"Revenue Growth (%)\"] = df.groupby([\"Company\"])[\"Total Revenue\"].pct_change() * 100\n",
    "df[\"Net Income Growth (%)\"] = df.groupby([\"Company\"])[\"Net Income\"].pct_change() * 100\n",
    "df[\"Total Assets Growth (%)\"] = df.groupby([\"Company\"])[\"Total Assets\"].pct_change() * 100\n",
    "df[\"Total Liabilities Growth (%)\"] = df.groupby([\"Company\"])[\"Total Liabilities\"].pct_change() * 100\n",
    "df[\"Cash Flow Growth (%)\"] = df.groupby([\"Company\"])[\"Cash Flow from Operating Activities\"].pct_change() * 100"
   ]
  },
  {
   "cell_type": "code",
   "execution_count": 14,
   "metadata": {},
   "outputs": [
    {
     "data": {
      "text/html": [
       "<div>\n",
       "<style scoped>\n",
       "    .dataframe tbody tr th:only-of-type {\n",
       "        vertical-align: middle;\n",
       "    }\n",
       "\n",
       "    .dataframe tbody tr th {\n",
       "        vertical-align: top;\n",
       "    }\n",
       "\n",
       "    .dataframe thead th {\n",
       "        text-align: right;\n",
       "    }\n",
       "</style>\n",
       "<table border=\"1\" class=\"dataframe\">\n",
       "  <thead>\n",
       "    <tr style=\"text-align: right;\">\n",
       "      <th></th>\n",
       "      <th>Company</th>\n",
       "      <th>Fiscal Year</th>\n",
       "      <th>Total Revenue</th>\n",
       "      <th>Net Income</th>\n",
       "      <th>Total Assets</th>\n",
       "      <th>Total Liabilities</th>\n",
       "      <th>Cash Flow from Operating Activities</th>\n",
       "      <th>Revenue Growth (%)</th>\n",
       "      <th>Net Income Growth (%)</th>\n",
       "      <th>Total Assets Growth (%)</th>\n",
       "      <th>Total Liabilities Growth (%)</th>\n",
       "      <th>Cash Flow Growth (%)</th>\n",
       "    </tr>\n",
       "  </thead>\n",
       "  <tbody>\n",
       "    <tr>\n",
       "      <th>0</th>\n",
       "      <td>Microsoft</td>\n",
       "      <td>2024</td>\n",
       "      <td>236000</td>\n",
       "      <td>73900</td>\n",
       "      <td>411981</td>\n",
       "      <td>198147</td>\n",
       "      <td>88900</td>\n",
       "      <td>NaN</td>\n",
       "      <td>NaN</td>\n",
       "      <td>NaN</td>\n",
       "      <td>NaN</td>\n",
       "      <td>NaN</td>\n",
       "    </tr>\n",
       "    <tr>\n",
       "      <th>1</th>\n",
       "      <td>Microsoft</td>\n",
       "      <td>2023</td>\n",
       "      <td>211915</td>\n",
       "      <td>72136</td>\n",
       "      <td>411981</td>\n",
       "      <td>198147</td>\n",
       "      <td>87076</td>\n",
       "      <td>-10.205508</td>\n",
       "      <td>-2.387009</td>\n",
       "      <td>0.000000</td>\n",
       "      <td>0.000000</td>\n",
       "      <td>-2.051744</td>\n",
       "    </tr>\n",
       "    <tr>\n",
       "      <th>2</th>\n",
       "      <td>Microsoft</td>\n",
       "      <td>2022</td>\n",
       "      <td>198270</td>\n",
       "      <td>61271</td>\n",
       "      <td>364840</td>\n",
       "      <td>186670</td>\n",
       "      <td>79668</td>\n",
       "      <td>-6.438902</td>\n",
       "      <td>-15.061828</td>\n",
       "      <td>-11.442518</td>\n",
       "      <td>-5.792164</td>\n",
       "      <td>-8.507511</td>\n",
       "    </tr>\n",
       "    <tr>\n",
       "      <th>3</th>\n",
       "      <td>Tesla</td>\n",
       "      <td>2023</td>\n",
       "      <td>96774</td>\n",
       "      <td>12586</td>\n",
       "      <td>82833</td>\n",
       "      <td>41661</td>\n",
       "      <td>13410</td>\n",
       "      <td>NaN</td>\n",
       "      <td>NaN</td>\n",
       "      <td>NaN</td>\n",
       "      <td>NaN</td>\n",
       "      <td>NaN</td>\n",
       "    </tr>\n",
       "    <tr>\n",
       "      <th>4</th>\n",
       "      <td>Tesla</td>\n",
       "      <td>2022</td>\n",
       "      <td>81462</td>\n",
       "      <td>12564</td>\n",
       "      <td>82551</td>\n",
       "      <td>40317</td>\n",
       "      <td>11457</td>\n",
       "      <td>-15.822432</td>\n",
       "      <td>-0.174797</td>\n",
       "      <td>-0.340444</td>\n",
       "      <td>-3.226039</td>\n",
       "      <td>-14.563758</td>\n",
       "    </tr>\n",
       "    <tr>\n",
       "      <th>5</th>\n",
       "      <td>Tesla</td>\n",
       "      <td>2021</td>\n",
       "      <td>53823</td>\n",
       "      <td>5564</td>\n",
       "      <td>62131</td>\n",
       "      <td>31494</td>\n",
       "      <td>5654</td>\n",
       "      <td>-33.928703</td>\n",
       "      <td>-55.714741</td>\n",
       "      <td>-24.736224</td>\n",
       "      <td>-21.884069</td>\n",
       "      <td>-50.650257</td>\n",
       "    </tr>\n",
       "    <tr>\n",
       "      <th>6</th>\n",
       "      <td>Apple</td>\n",
       "      <td>2023</td>\n",
       "      <td>394328</td>\n",
       "      <td>97407</td>\n",
       "      <td>352583</td>\n",
       "      <td>302083</td>\n",
       "      <td>111505</td>\n",
       "      <td>NaN</td>\n",
       "      <td>NaN</td>\n",
       "      <td>NaN</td>\n",
       "      <td>NaN</td>\n",
       "      <td>NaN</td>\n",
       "    </tr>\n",
       "    <tr>\n",
       "      <th>7</th>\n",
       "      <td>Apple</td>\n",
       "      <td>2022</td>\n",
       "      <td>387538</td>\n",
       "      <td>99803</td>\n",
       "      <td>351002</td>\n",
       "      <td>302083</td>\n",
       "      <td>122151</td>\n",
       "      <td>-1.721917</td>\n",
       "      <td>2.459782</td>\n",
       "      <td>-0.448405</td>\n",
       "      <td>0.000000</td>\n",
       "      <td>9.547554</td>\n",
       "    </tr>\n",
       "    <tr>\n",
       "      <th>8</th>\n",
       "      <td>Apple</td>\n",
       "      <td>2021</td>\n",
       "      <td>365817</td>\n",
       "      <td>94680</td>\n",
       "      <td>351002</td>\n",
       "      <td>287491</td>\n",
       "      <td>104038</td>\n",
       "      <td>-5.604870</td>\n",
       "      <td>-5.133112</td>\n",
       "      <td>0.000000</td>\n",
       "      <td>-4.830461</td>\n",
       "      <td>-14.828368</td>\n",
       "    </tr>\n",
       "  </tbody>\n",
       "</table>\n",
       "</div>"
      ],
      "text/plain": [
       "     Company  Fiscal Year  Total Revenue  Net Income  Total Assets  \\\n",
       "0  Microsoft         2024         236000       73900        411981   \n",
       "1  Microsoft         2023         211915       72136        411981   \n",
       "2  Microsoft         2022         198270       61271        364840   \n",
       "3      Tesla         2023          96774       12586         82833   \n",
       "4      Tesla         2022          81462       12564         82551   \n",
       "5      Tesla         2021          53823        5564         62131   \n",
       "6      Apple         2023         394328       97407        352583   \n",
       "7      Apple         2022         387538       99803        351002   \n",
       "8      Apple         2021         365817       94680        351002   \n",
       "\n",
       "   Total Liabilities  Cash Flow from Operating Activities  Revenue Growth (%)  \\\n",
       "0             198147                                88900                 NaN   \n",
       "1             198147                                87076          -10.205508   \n",
       "2             186670                                79668           -6.438902   \n",
       "3              41661                                13410                 NaN   \n",
       "4              40317                                11457          -15.822432   \n",
       "5              31494                                 5654          -33.928703   \n",
       "6             302083                               111505                 NaN   \n",
       "7             302083                               122151           -1.721917   \n",
       "8             287491                               104038           -5.604870   \n",
       "\n",
       "   Net Income Growth (%)  Total Assets Growth (%)  \\\n",
       "0                    NaN                      NaN   \n",
       "1              -2.387009                 0.000000   \n",
       "2             -15.061828               -11.442518   \n",
       "3                    NaN                      NaN   \n",
       "4              -0.174797                -0.340444   \n",
       "5             -55.714741               -24.736224   \n",
       "6                    NaN                      NaN   \n",
       "7               2.459782                -0.448405   \n",
       "8              -5.133112                 0.000000   \n",
       "\n",
       "   Total Liabilities Growth (%)  Cash Flow Growth (%)  \n",
       "0                           NaN                   NaN  \n",
       "1                      0.000000             -2.051744  \n",
       "2                     -5.792164             -8.507511  \n",
       "3                           NaN                   NaN  \n",
       "4                     -3.226039            -14.563758  \n",
       "5                    -21.884069            -50.650257  \n",
       "6                           NaN                   NaN  \n",
       "7                      0.000000              9.547554  \n",
       "8                     -4.830461            -14.828368  "
      ]
     },
     "execution_count": 14,
     "metadata": {},
     "output_type": "execute_result"
    }
   ],
   "source": [
    "df"
   ]
  },
  {
   "cell_type": "code",
   "execution_count": 15,
   "metadata": {},
   "outputs": [],
   "source": [
    "df.to_csv(\"data1.csv\", index=False, sep=\";\")"
   ]
  },
  {
   "cell_type": "markdown",
   "metadata": {},
   "source": [
    "#  Aggregate functions and groupings"
   ]
  },
  {
   "cell_type": "code",
   "execution_count": 16,
   "metadata": {},
   "outputs": [
    {
     "name": "stdout",
     "output_type": "stream",
     "text": [
      "\n",
      "Average Financial Metrics by Fiscal Year:\n",
      "             Total Revenue    Net Income   Total Assets  Total Liabilities  \\\n",
      "Fiscal Year                                                                  \n",
      "2021         209820.000000  50122.000000  206566.500000      159492.500000   \n",
      "2022         222423.333333  57879.333333  266131.000000      176356.666667   \n",
      "2023         234339.000000  60709.666667  282465.666667      180630.333333   \n",
      "2024         236000.000000  73900.000000  411981.000000      198147.000000   \n",
      "\n",
      "             Cash Flow from Operating Activities  \n",
      "Fiscal Year                                       \n",
      "2021                                54846.000000  \n",
      "2022                                71092.000000  \n",
      "2023                                70663.666667  \n",
      "2024                                88900.000000  \n"
     ]
    }
   ],
   "source": [
    "\n",
    "\n",
    "# Calculate average financial metrics over the years\n",
    "yearly_avg = df.groupby('Fiscal Year')[['Total Revenue', 'Net Income', 'Total Assets', 'Total Liabilities', 'Cash Flow from Operating Activities']].mean()\n",
    "print(\"\\nAverage Financial Metrics by Fiscal Year:\")\n",
    "print(yearly_avg)"
   ]
  },
  {
   "cell_type": "markdown",
   "metadata": {},
   "source": [
    "# Calculate total revenue and net income per year per company"
   ]
  },
  {
   "cell_type": "code",
   "execution_count": 17,
   "metadata": {},
   "outputs": [
    {
     "name": "stdout",
     "output_type": "stream",
     "text": [
      "\n",
      "Total Revenue and Net Income per Year per Company:\n",
      "                       Total Revenue  Net Income\n",
      "Fiscal Year Company                             \n",
      "2021        Apple             365817       94680\n",
      "            Tesla              53823        5564\n",
      "2022        Apple             387538       99803\n",
      "            Microsoft         198270       61271\n",
      "            Tesla              81462       12564\n",
      "2023        Apple             394328       97407\n",
      "            Microsoft         211915       72136\n",
      "            Tesla              96774       12586\n",
      "2024        Microsoft         236000       73900\n"
     ]
    }
   ],
   "source": [
    "\n",
    "total_per_year = df.groupby(['Fiscal Year', 'Company'])[['Total Revenue', 'Net Income']].sum()\n",
    "print(\"\\nTotal Revenue and Net Income per Year per Company:\")\n",
    "print(total_per_year)"
   ]
  },
  {
   "cell_type": "markdown",
   "metadata": {},
   "source": [
    "# Summary of Findings"
   ]
  },
  {
   "cell_type": "markdown",
   "metadata": {},
   "source": [
    "\n",
    "\n",
    "\n",
    "- Microsoft, Tesla, and Apple exhibit different revenue and net income trends over the last three fiscal years.\n",
    "- The revenue growth trend shows how each company has expanded its business operations.\n",
    "- Net income trends highlight profitability variations.\n",
    "- Cash flow growth indicates operational efficiency.\n",
    "- Average financial metrics over the years provide insights into overall financial health trends.\n",
    "- Aggregating total revenue and net income per year per company highlights key growth patterns.\n",
    "\n",
    "This analysis provides insights into financial trends, useful for AI-powered financial chatbots.\n",
    "\"\"\""
   ]
  },
  {
   "cell_type": "markdown",
   "metadata": {},
   "source": []
  }
 ],
 "metadata": {
  "kernelspec": {
   "display_name": "GenAI",
   "language": "python",
   "name": "python3"
  },
  "language_info": {
   "codemirror_mode": {
    "name": "ipython",
    "version": 3
   },
   "file_extension": ".py",
   "mimetype": "text/x-python",
   "name": "python",
   "nbconvert_exporter": "python",
   "pygments_lexer": "ipython3",
   "version": "3.11.11"
  }
 },
 "nbformat": 4,
 "nbformat_minor": 2
}
